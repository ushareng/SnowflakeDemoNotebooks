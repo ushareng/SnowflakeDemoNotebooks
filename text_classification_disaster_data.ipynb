{
 "metadata": {
  "kernelspec": {
   "display_name": "Streamlit Notebook",
   "name": "streamlit"
  }
 },
 "nbformat_minor": 5,
 "nbformat": 4,
 "cells": [
  {
   "cell_type": "code",
   "id": "3775908f-ca36-4846-8f38-5adca39217f2",
   "metadata": {
    "language": "python",
    "name": "cell1",
    "collapsed": false,
    "resultHeight": 0
   },
   "source": "# Import python packages\nimport streamlit as st\nimport pandas as pd\n\n# We can also use Snowpark for our analyses!\nfrom snowflake.snowpark.context import get_active_session\nsession = get_active_session()\n",
   "execution_count": null,
   "outputs": []
  },
  {
   "cell_type": "code",
   "id": "391db2e9-f560-4a06-9ae9-5a26b08fbb68",
   "metadata": {
    "language": "python",
    "name": "cell4",
    "collapsed": false,
    "resultHeight": 0,
    "codeCollapsed": false
   },
   "outputs": [],
   "source": "df = session.table('disaster').to_pandas()",
   "execution_count": null
  },
  {
   "cell_type": "code",
   "id": "8350953a-d0c9-4a50-bfe1-3f0f608bb3ca",
   "metadata": {
    "language": "python",
    "name": "cell13",
    "resultHeight": 252,
    "collapsed": false
   },
   "outputs": [],
   "source": "df.columns",
   "execution_count": null
  },
  {
   "cell_type": "code",
   "id": "6ad4cfdf-9194-4904-aa9e-30dab6dab08a",
   "metadata": {
    "language": "python",
    "name": "cell5",
    "resultHeight": 0,
    "collapsed": false,
    "codeCollapsed": false
   },
   "outputs": [],
   "source": "df.dropna(subset=['TEXT'], inplace=True)",
   "execution_count": null
  },
  {
   "cell_type": "markdown",
   "id": "e44107e2-c0be-4b14-8344-a28a4c4d933c",
   "metadata": {
    "name": "cell15",
    "collapsed": false,
    "resultHeight": 41
   },
   "source": "Data analysis"
  },
  {
   "cell_type": "code",
   "id": "ba2a51e0-d4e8-4896-9bdd-d5b38640b753",
   "metadata": {
    "language": "python",
    "name": "cell6",
    "codeCollapsed": false,
    "resultHeight": 105,
    "collapsed": false
   },
   "outputs": [],
   "source": "label_counts = df['LABEL'].value_counts()\nprint(label_counts)",
   "execution_count": null
  },
  {
   "cell_type": "code",
   "id": "e7ea92a5-3919-4ff1-8f35-56c453dbf7bc",
   "metadata": {
    "language": "python",
    "name": "cell8",
    "codeCollapsed": false,
    "resultHeight": 0,
    "collapsed": false
   },
   "outputs": [],
   "source": "Prompt = \"You are a text classifier model, Given a sentence, classify if it is a disaster or not, Answer 'yes' or 'no' only. the sentence is - \"",
   "execution_count": null
  },
  {
   "cell_type": "code",
   "id": "35809dea-8885-48d1-aaa4-8b1f6d3e7a1d",
   "metadata": {
    "language": "python",
    "name": "cell11",
    "collapsed": false,
    "resultHeight": 0,
    "codeCollapsed": false
   },
   "outputs": [],
   "source": "from snowflake.cortex import Complete\ndef classify(question):\n    prompt = Prompt + question\n    return Complete('gemma-7b', prompt)",
   "execution_count": null
  },
  {
   "cell_type": "code",
   "id": "2deb6aed-6d6b-4245-a3f8-5a8f820e55c7",
   "metadata": {
    "language": "python",
    "name": "cell12",
    "resultHeight": 105,
    "codeCollapsed": false,
    "collapsed": false
   },
   "outputs": [],
   "source": "classify(\"Lets go for shopping. I prefer Quatar, Lithuanza and Air Asia. Which one you like\")",
   "execution_count": null
  },
  {
   "cell_type": "markdown",
   "id": "7f45c1b1-80cf-4a3c-a8bb-72ea1db7da91",
   "metadata": {
    "name": "cell2",
    "collapsed": false,
    "resultHeight": 46
   },
   "source": "### Finetuning"
  },
  {
   "cell_type": "code",
   "id": "463c82f5-967f-4ffa-bff1-69183ced69fc",
   "metadata": {
    "language": "python",
    "name": "cell9",
    "codeCollapsed": false,
    "resultHeight": 313,
    "collapsed": false
   },
   "outputs": [],
   "source": "def create_prompt(row):\n    return Prompt + row['TEXT']\n    \n\n# Apply the prompt creation to each row in the DataFrame\ndf['PROMPT'] = df.apply(create_prompt, axis=1)\n\n# Show the DataFrame with generated prompts\nprint(df[['TEXT', 'PROMPT']])",
   "execution_count": null
  },
  {
   "cell_type": "code",
   "id": "68ad2ed9-6baf-451f-bc4c-173ec6e84bca",
   "metadata": {
    "language": "python",
    "name": "cell3",
    "collapsed": false,
    "resultHeight": 0
   },
   "outputs": [],
   "source": "df2 = df[:500]\ndf2 = df2.drop(['KEYWORD', 'LOCATION', 'INDEX'], axis=1)\ndf2['LABEL'] = df2['LABEL'].replace({1: 'yes', 0: 'no'}).astype(str)",
   "execution_count": null
  },
  {
   "cell_type": "code",
   "id": "19d646d6-593d-40a0-bddb-78384163bb12",
   "metadata": {
    "language": "python",
    "name": "cell10",
    "collapsed": false,
    "resultHeight": 252,
    "codeCollapsed": false
   },
   "outputs": [],
   "source": "df2.head()",
   "execution_count": null
  },
  {
   "cell_type": "code",
   "id": "8784a8a4-1c9b-4403-959a-0bf36cbaf8d3",
   "metadata": {
    "language": "python",
    "name": "cell16",
    "resultHeight": 0,
    "collapsed": false
   },
   "outputs": [],
   "source": "df2.to_csv('dataframe.csv', index=False)",
   "execution_count": null
  },
  {
   "cell_type": "code",
   "id": "c679f09f-6560-45ba-a2bc-8f49fe96443c",
   "metadata": {
    "language": "python",
    "name": "cell28",
    "collapsed": false,
    "resultHeight": 66
   },
   "outputs": [],
   "source": "session.sql(\"CREATE OR REPLACE STAGE my_stage\").collect()\n\nsession.file.put('dataframe.csv', '@my_stage')\n\nprint(\"Files in the stage:\")\nfiles = session.sql(\"LIST @my_stage\").collect()\nfor file in files:\n    print(file)",
   "execution_count": null
  },
  {
   "cell_type": "code",
   "id": "e3aef809-2dba-45fe-a7ec-2f2817b1e0f8",
   "metadata": {
    "language": "python",
    "name": "cell20",
    "collapsed": false,
    "resultHeight": 38
   },
   "outputs": [],
   "source": "create_table_sql = \"\"\"\nCREATE OR REPLACE TABLE table_data (\n    text STRING,\n    label STRING,\n    prompt STRING\n);\n\"\"\"\nsession.sql(create_table_sql).collect()\n\ncopy_into_sql = \"\"\"\nCOPY INTO table_data\nFROM @my_stage/dataframe.csv.gz\nFILE_FORMAT = (TYPE = 'CSV' FIELD_OPTIONALLY_ENCLOSED_BY='\"' FIELD_DELIMITER=',' SKIP_HEADER=1)\nON_ERROR = 'CONTINUE';\n\"\"\"\n\ntry:\n    session.sql(copy_into_sql).collect()\n    print(\"Data loaded into 'table_data' table successfully!\")\nexcept Exception as e:\n    print(\"Error loading data into 'table_data':\")\n    print(f\"Error Message: {e}\")",
   "execution_count": null
  },
  {
   "cell_type": "code",
   "id": "473002b8-e78f-42ee-bd97-2f90e07929d6",
   "metadata": {
    "language": "sql",
    "name": "cell14",
    "codeCollapsed": false,
    "resultHeight": 427,
    "collapsed": false
   },
   "outputs": [],
   "source": "select * from table_data limit 10;",
   "execution_count": null
  },
  {
   "cell_type": "code",
   "id": "02fe1296-579f-4cc3-9054-abcc0711eeac",
   "metadata": {
    "language": "sql",
    "name": "cell17",
    "codeCollapsed": false,
    "collapsed": false,
    "resultHeight": 112
   },
   "outputs": [],
   "source": "SELECT SNOWFLAKE.CORTEX.FINETUNE(\n  'CREATE',                       -- The operation type (CREATE, UPDATE, etc.)\n  'my_model1',                -- The name of the new fine-tuned model\n  'llama3.1-8b',                    -- The base model you want to fine-tune\n  'SELECT prompt AS prompt, label AS completion FROM table_data' \n);",
   "execution_count": null
  },
  {
   "cell_type": "code",
   "id": "d6129b50-d436-4f98-a6b7-7ade35c29ee6",
   "metadata": {
    "language": "sql",
    "name": "cell26",
    "collapsed": false,
    "resultHeight": 112
   },
   "outputs": [],
   "source": "SELECT SNOWFLAKE.CORTEX.FINETUNE(\n  'DESCRIBE',\n  'CortexFineTuningWorkflow_323f8532-dc8d-4068-8a85-943511f335ad'\n);",
   "execution_count": null
  },
  {
   "cell_type": "code",
   "id": "422e9725-a06b-4b08-8c6a-57ffb4be1936",
   "metadata": {
    "language": "sql",
    "name": "cell25",
    "collapsed": false,
    "resultHeight": 112
   },
   "outputs": [],
   "source": "SELECT SNOWFLAKE.CORTEX.FINETUNE(\n  'SHOW'\n);",
   "execution_count": null
  },
  {
   "cell_type": "code",
   "id": "62250a27-8aeb-4ac9-b269-1fa2e56fb4e2",
   "metadata": {
    "language": "python",
    "name": "cell21",
    "collapsed": false,
    "resultHeight": 0
   },
   "outputs": [],
   "source": "def tuned_model(query):\n    prompt = Prompt + query\n    print(prompt)\n    return Complete(\"my_model1\", prompt)",
   "execution_count": null
  },
  {
   "cell_type": "code",
   "id": "9870c337-a53e-4cc1-8cd2-1aa4019529c7",
   "metadata": {
    "language": "python",
    "name": "cell22",
    "resultHeight": 82,
    "collapsed": false
   },
   "outputs": [],
   "source": "tuned_model(\"there are landslides in hilly regions\")",
   "execution_count": null
  }
 ]
}