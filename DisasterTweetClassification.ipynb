{
 "metadata": {
  "kernelspec": {
   "display_name": "Streamlit Notebook",
   "name": "streamlit"
  }
 },
 "nbformat_minor": 5,
 "nbformat": 4,
 "cells": [
  {
   "cell_type": "code",
   "id": "3775908f-ca36-4846-8f38-5adca39217f2",
   "metadata": {
    "language": "python",
    "name": "cell1",
    "collapsed": false,
    "resultHeight": 0
   },
   "source": "# Import python packages\nimport streamlit as st\nimport pandas as pd\n\n# We can also use Snowpark for our analyses!\nfrom snowflake.snowpark.context import get_active_session\nsession = get_active_session()\n",
   "execution_count": null,
   "outputs": []
  },
  {
   "cell_type": "code",
   "id": "8d50cbf4-0c8d-4950-86cb-114990437ac9",
   "metadata": {
    "language": "sql",
    "name": "cell2"
   },
   "source": "-- Welcome to Snowflake Notebooks!\n-- Try out a SQL cell to generate some data.\nSELECT 'FRIDAY' as SNOWDAY, 0.2 as CHANCE_OF_SNOW\nUNION ALL\nSELECT 'SATURDAY',0.5\nUNION ALL \nSELECT 'SUNDAY', 0.9;",
   "execution_count": null,
   "outputs": []
  },
  {
   "cell_type": "code",
   "id": "c695373e-ac74-4b62-a1f1-08206cbd5c81",
   "metadata": {
    "language": "python",
    "name": "cell3"
   },
   "source": "# Then, we can use the python name to turn cell2 into a Pandas dataframe\nmy_df = cell2.to_pandas()\n\n# Chart the data\nst.subheader(\"Chance of SNOW ❄️\")\nst.line_chart(my_df, x='SNOWDAY', y='CHANCE_OF_SNOW')\n\n# Give it a go!\nst.subheader(\"Try it out yourself and show off your skills 🥇\")",
   "execution_count": null,
   "outputs": []
  },
  {
   "cell_type": "code",
   "id": "391db2e9-f560-4a06-9ae9-5a26b08fbb68",
   "metadata": {
    "language": "python",
    "name": "cell4",
    "collapsed": false
   },
   "outputs": [],
   "source": "df = session.table('ecommerce').to_pandas()",
   "execution_count": null
  },
  {
   "cell_type": "code",
   "id": "6ad4cfdf-9194-4904-aa9e-30dab6dab08a",
   "metadata": {
    "language": "python",
    "name": "cell5",
    "resultHeight": 0,
    "collapsed": false
   },
   "outputs": [],
   "source": "df.rename(columns={'C1': 'label', 'C2': 'text'}, inplace=True)\ndf.dropna(subset=['text'], inplace=True)",
   "execution_count": null
  },
  {
   "cell_type": "markdown",
   "id": "e44107e2-c0be-4b14-8344-a28a4c4d933c",
   "metadata": {
    "name": "cell15",
    "collapsed": false,
    "resultHeight": 41
   },
   "source": "Data analysis"
  },
  {
   "cell_type": "code",
   "id": "ba2a51e0-d4e8-4896-9bdd-d5b38640b753",
   "metadata": {
    "language": "python",
    "name": "cell6",
    "codeCollapsed": false,
    "resultHeight": 150,
    "collapsed": false
   },
   "outputs": [],
   "source": "label_counts = df['label'].value_counts()\nprint(label_counts)",
   "execution_count": null
  },
  {
   "cell_type": "code",
   "id": "788ef2d9-1414-4a42-8525-5282cf3aa2ab",
   "metadata": {
    "language": "python",
    "name": "cell7",
    "codeCollapsed": false,
    "resultHeight": 150,
    "collapsed": false
   },
   "outputs": [],
   "source": "\nlabel_to_keep = \"Household\"\n\n# Dropping the examples corresponding to Household to make data uniform\ndf = pd.concat([\n    df[df['label'] == label_to_keep].head(10000),\n    df[df['label'] != label_to_keep]\n])\nlabel_counts = df['label'].value_counts()\nprint(label_counts)",
   "execution_count": null
  },
  {
   "cell_type": "code",
   "id": "e7ea92a5-3919-4ff1-8f35-56c453dbf7bc",
   "metadata": {
    "language": "python",
    "name": "cell8",
    "codeCollapsed": false,
    "resultHeight": 0,
    "collapsed": false
   },
   "outputs": [],
   "source": "Prompt = \"You are a classifier model, you have to classify the given text into {}. Return one of these categories only and if it doesnt fit then output 'None'. The text is - \".format(df['label'].unique())\n",
   "execution_count": null
  },
  {
   "cell_type": "code",
   "id": "463c82f5-967f-4ffa-bff1-69183ced69fc",
   "metadata": {
    "language": "python",
    "name": "cell9",
    "codeCollapsed": false,
    "resultHeight": 313
   },
   "outputs": [],
   "source": "def create_prompt(row):\n    return Prompt + row['text']\n    \n\n# Apply the prompt creation to each row in the DataFrame\ndf['prompt'] = df.apply(create_prompt, axis=1)\n\n# Show the DataFrame with generated prompts\nprint(df[['text', 'prompt']])",
   "execution_count": null
  },
  {
   "cell_type": "code",
   "id": "fa9d4ddc-619b-4cca-9baa-ffbf0dfb7ff7",
   "metadata": {
    "language": "sql",
    "name": "cell10",
    "codeCollapsed": false,
    "collapsed": false,
    "resultHeight": 112
   },
   "outputs": [],
   "source": "USE DATABASE CONTAINER_RUNTIME_LAB;\nUSE SCHEMA NOTEBOOKS;",
   "execution_count": null
  },
  {
   "cell_type": "code",
   "id": "35809dea-8885-48d1-aaa4-8b1f6d3e7a1d",
   "metadata": {
    "language": "python",
    "name": "cell11",
    "collapsed": false,
    "resultHeight": 0,
    "codeCollapsed": false
   },
   "outputs": [],
   "source": "from snowflake.cortex import Complete\ndef classify(question):\n    prompt = Prompt + question\n    return Complete('gemma-7b', prompt)",
   "execution_count": null
  },
  {
   "cell_type": "code",
   "id": "2deb6aed-6d6b-4245-a3f8-5a8f820e55c7",
   "metadata": {
    "language": "python",
    "name": "cell12",
    "resultHeight": 60
   },
   "outputs": [],
   "source": "classify(\"Lets go for shopping. I prefer Quatar, Lithuanza and Air Asia. Which one you like\")",
   "execution_count": null
  },
  {
   "cell_type": "code",
   "id": "01fa9e19-a7b5-4f5f-bea0-d1281659c6e2",
   "metadata": {
    "language": "python",
    "name": "cell13",
    "resultHeight": 427,
    "codeCollapsed": false
   },
   "outputs": [],
   "source": "df['text'].head(10)",
   "execution_count": null
  },
  {
   "cell_type": "code",
   "id": "473002b8-e78f-42ee-bd97-2f90e07929d6",
   "metadata": {
    "language": "python",
    "name": "cell14",
    "codeCollapsed": false
   },
   "outputs": [],
   "source": "",
   "execution_count": null
  }
 ]
}