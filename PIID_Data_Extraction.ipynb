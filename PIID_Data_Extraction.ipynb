{
 "metadata": {
  "kernelspec": {
   "display_name": "Streamlit Notebook",
   "name": "streamlit"
  }
 },
 "nbformat_minor": 5,
 "nbformat": 4,
 "cells": [
  {
   "cell_type": "code",
   "id": "3775908f-ca36-4846-8f38-5adca39217f2",
   "metadata": {
    "language": "python",
    "name": "cell1",
    "collapsed": false,
    "resultHeight": 0
   },
   "source": "# Import python packages\nimport streamlit as st\nimport pandas as pd\n\n# We can also use Snowpark for our analyses!\nfrom snowflake.snowpark.context import get_active_session\nsession = get_active_session()\n",
   "execution_count": null,
   "outputs": []
  },
  {
   "cell_type": "code",
   "id": "8d50cbf4-0c8d-4950-86cb-114990437ac9",
   "metadata": {
    "language": "sql",
    "name": "cell2"
   },
   "source": "-- Welcome to Snowflake Notebooks!\n-- Try out a SQL cell to generate some data.\nSELECT 'FRIDAY' as SNOWDAY, 0.2 as CHANCE_OF_SNOW\nUNION ALL\nSELECT 'SATURDAY',0.5\nUNION ALL \nSELECT 'SUNDAY', 0.9;",
   "execution_count": null,
   "outputs": []
  },
  {
   "cell_type": "code",
   "id": "c695373e-ac74-4b62-a1f1-08206cbd5c81",
   "metadata": {
    "language": "python",
    "name": "cell3"
   },
   "source": "# Then, we can use the python name to turn cell2 into a Pandas dataframe\nmy_df = cell2.to_pandas()\n\n# Chart the data\nst.subheader(\"Chance of SNOW ❄️\")\nst.line_chart(my_df, x='SNOWDAY', y='CHANCE_OF_SNOW')\n\n# Give it a go!\nst.subheader(\"Try it out yourself and show off your skills 🥇\")",
   "execution_count": null,
   "outputs": []
  },
  {
   "cell_type": "code",
   "id": "3a4ef6ff-f5ef-48d8-8262-fd674c9b440b",
   "metadata": {
    "language": "python",
    "name": "cell4",
    "collapsed": false,
    "resultHeight": 239
   },
   "outputs": [],
   "source": "df = session.table('piidata').to_pandas()",
   "execution_count": null
  },
  {
   "cell_type": "code",
   "id": "f7b9f8ce-33a0-4ffd-8153-62178bb40b78",
   "metadata": {
    "language": "python",
    "name": "cell5",
    "collapsed": false,
    "resultHeight": 0
   },
   "outputs": [],
   "source": "Prompt = \"\"\"You are a PII (Personal Identity Information) Detection. Given a sentence, you have to identify ONLY the following:\nNAME_STUDENT - The full or partial name of a student that is not necessarily the author of the essay. This excludes instructors, authors, and other person names.\nEMAIL - A student’s email address.\nUSERNAME - A student's username on any platform.\nID_NUM - A number or sequence of characters that could be used to identify a student, such as a student ID or a social security number.\nPHONE_NUM - A phone number associated with a student.\nURL_PERSONAL - A URL that might be used to identify a student.\nSTREET_ADDRESS - A full or partial street address that is associated with the student, such as their home address.\nYou will output in JSON format, without any other text if an entity is not present, output None for it. Like this:\n{\n    \"NAME_STUDENT\":<>\n    \"EMAIL\":<>\n    \"USERNAME\":<>\n    \"ID_NUM\":<>\n    \"PHONE_NUM\":<>\n    \"URL_PERSONAL\":<>\n    \"STREET_ADDRESS\":<>\n}\"\"\"",
   "execution_count": null
  },
  {
   "cell_type": "code",
   "id": "e6ecb42f-5d3f-4f94-88ff-e9d97cb1f350",
   "metadata": {
    "language": "python",
    "name": "cell6",
    "resultHeight": 0,
    "collapsed": false
   },
   "outputs": [],
   "source": "from snowflake.cortex import Complete\ndef detect(question):\n    prompt = Prompt + \"Sentence:- \" +question\n    return Complete('llama3.1-405b', prompt)",
   "execution_count": null
  },
  {
   "cell_type": "code",
   "id": "2e2afabb-3a38-4d88-a670-b7285a346b2c",
   "metadata": {
    "language": "python",
    "name": "cell7",
    "codeCollapsed": false,
    "resultHeight": 233
   },
   "outputs": [],
   "source": "detect(df.iloc[8]['FULL_TEXT'])",
   "execution_count": null
  },
  {
   "cell_type": "code",
   "id": "2a4f9ab6-8db2-47e7-9c2b-fb601902c3b2",
   "metadata": {
    "language": "python",
    "name": "cell10",
    "codeCollapsed": false
   },
   "outputs": [],
   "source": "",
   "execution_count": null
  }
 ]
}